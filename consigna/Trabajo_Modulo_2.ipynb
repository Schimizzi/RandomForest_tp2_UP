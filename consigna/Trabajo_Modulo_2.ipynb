{
  "nbformat": 4,
  "nbformat_minor": 0,
  "metadata": {
    "colab": {
      "provenance": []
    },
    "kernelspec": {
      "name": "python3",
      "display_name": "Python 3"
    },
    "language_info": {
      "name": "python"
    }
  },
  "cells": [
    {
      "cell_type": "markdown",
      "source": [
        "### Trabajo Modulo 2"
      ],
      "metadata": {
        "id": "meUM9mydcdx7"
      }
    },
    {
      "cell_type": "markdown",
      "source": [
        "Llegamos al final del modulo 2 y estamos en condiciones de analizar un dataset, entrenar un primer modelo (en este caso de clasificacion) y evaluar resultados."
      ],
      "metadata": {
        "id": "JKUC_UEWcd0f"
      }
    },
    {
      "cell_type": "markdown",
      "source": [
        "En este proyecto trabajaran con un dataset que contiene informacion sobre personas, el objetivo es crear un modelo que permita predecir si la persona es fumadora o no."
      ],
      "metadata": {
        "id": "oK7rXLZccgu0"
      }
    },
    {
      "cell_type": "markdown",
      "source": [
        "Podran acceder al conjunto de datos en el siguiente enlace: https://docs.google.com/spreadsheets/d/1335AaFI1WufJkv56b9u-JwdLKifenolp/edit?usp=sharing&ouid=107760286087613309815&rtpof=true&sd=true"
      ],
      "metadata": {
        "id": "AJV9dto_cgxw"
      }
    },
    {
      "cell_type": "markdown",
      "source": [
        "### Entrega"
      ],
      "metadata": {
        "id": "JhNvj1U-cg0V"
      }
    },
    {
      "cell_type": "markdown",
      "source": [
        "Deberan adjuntar una notebook tipo \"informe\" donde se incluya: carga de datos, limpieza y manipulacion de los mismos, EDA, feature selection, entrenamiento y evaluacion de modelos, conclusiones."
      ],
      "metadata": {
        "id": "kIrcmvYlcg3G"
      }
    },
    {
      "cell_type": "markdown",
      "source": [
        "Tambien deberan descargar los siguientes datos: https://docs.google.com/spreadsheets/d/1dpTMd0R0-YJ6psx8egWNR-IL5g6QPraL/edit?usp=sharing&ouid=107760286087613309815&rtpof=true&sd=true\n",
        "\n",
        "\n",
        "Y realizar una prediccion con el que consideren su mejor modelo y adjuntarlas incluyendo dicha prediccion en una variable nueva al final del dataset llamada \"Smoking\".\n"
      ],
      "metadata": {
        "id": "zFeVFXcecg5-"
      }
    }
  ]
}